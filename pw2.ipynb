{
 "cells": [
  {
   "cell_type": "code",
   "execution_count": 1,
   "id": "8f7b137a",
   "metadata": {},
   "outputs": [
    {
     "name": "stdout",
     "output_type": "stream",
     "text": [
      "function_1 took 0.00000590s to execute\n"
     ]
    }
   ],
   "source": [
    "def timer(fn):\n",
    "    from time import perf_counter\n",
    "    \n",
    "    def inner(*args, **kwargs):\n",
    "        start_time = perf_counter()\n",
    "        to_execute = fn(*args, **kwargs)\n",
    "        end_time = perf_counter()\n",
    "        execution_time = end_time - start_time\n",
    "        print('{0} took {1:.8f}s to execute'.format(fn.__name__, execution_time))\n",
    "        return to_execute\n",
    "    \n",
    "    return inner\n",
    "\n",
    "@timer\n",
    "def function_1():\n",
    "    for i in range(2):\n",
    "        pass\n",
    "\n",
    "\n",
    "function_1()\n"
   ]
  },
  {
   "cell_type": "code",
   "execution_count": null,
   "id": "c6001a67",
   "metadata": {},
   "outputs": [],
   "source": []
  }
 ],
 "metadata": {
  "kernelspec": {
   "display_name": "Python 3 (ipykernel)",
   "language": "python",
   "name": "python3"
  },
  "language_info": {
   "codemirror_mode": {
    "name": "ipython",
    "version": 3
   },
   "file_extension": ".py",
   "mimetype": "text/x-python",
   "name": "python",
   "nbconvert_exporter": "python",
   "pygments_lexer": "ipython3",
   "version": "3.10.9"
  }
 },
 "nbformat": 4,
 "nbformat_minor": 5
}
